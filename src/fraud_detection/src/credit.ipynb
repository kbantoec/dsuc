{
 "cells": [
  {
   "cell_type": "code",
   "execution_count": 9,
   "metadata": {
    "collapsed": true
   },
   "outputs": [],
   "source": [
    "import pandas as pd\n",
    "\n",
    "import config"
   ]
  },
  {
   "cell_type": "code",
   "execution_count": 11,
   "outputs": [
    {
     "data": {
      "text/plain": "   Unnamed: 0  Time        V1        V2        V3        V4        V5  \\\n0           0    64  1.212511 -0.099054 -1.192094  0.286324  2.160516   \n1           1    64 -0.658305  0.406791  2.037461 -0.291298  0.147910   \n2           2   124  1.105253  0.541842  0.839421  2.570933 -0.279517   \n3           3   128  1.239495 -0.182609  0.155058 -0.928892 -0.746227   \n4           4   132 -1.571359  1.687508  0.734670  1.293350 -0.217532   \n\n         V6        V7        V8  ...       V21       V22       V23       V24  \\\n0  3.616314 -0.404207  0.842331  ... -0.167496 -0.494695 -0.149785  1.011227   \n1 -0.350857  0.945373 -0.172560  ... -0.156096 -0.238805  0.089877  0.421195   \n2 -0.423062  0.088019  0.011622  ... -0.137434 -0.460991  0.189397  0.556329   \n3 -1.235608 -0.061695 -0.125223  ...  0.146077  0.481119 -0.140019  0.538261   \n4 -0.002677  0.147364  0.515362  ...  0.048549  0.377256 -0.030436  0.117608   \n\n        V25       V26       V27       V28  Amount  Class  \n0  0.883548 -0.329434  0.020370  0.017037   34.70      0  \n1 -0.352487  0.074783 -0.094192 -0.092493   54.99      0  \n2  0.185786 -0.189030  0.000208  0.026167    6.24      0  \n3  0.710720 -0.621382  0.036867  0.010963    8.80      0  \n4 -0.060520 -0.296550 -0.481570 -0.167897   10.00      0  \n\n[5 rows x 32 columns]",
      "text/html": "<div>\n<style scoped>\n    .dataframe tbody tr th:only-of-type {\n        vertical-align: middle;\n    }\n\n    .dataframe tbody tr th {\n        vertical-align: top;\n    }\n\n    .dataframe thead th {\n        text-align: right;\n    }\n</style>\n<table border=\"1\" class=\"dataframe\">\n  <thead>\n    <tr style=\"text-align: right;\">\n      <th></th>\n      <th>Unnamed: 0</th>\n      <th>Time</th>\n      <th>V1</th>\n      <th>V2</th>\n      <th>V3</th>\n      <th>V4</th>\n      <th>V5</th>\n      <th>V6</th>\n      <th>V7</th>\n      <th>V8</th>\n      <th>...</th>\n      <th>V21</th>\n      <th>V22</th>\n      <th>V23</th>\n      <th>V24</th>\n      <th>V25</th>\n      <th>V26</th>\n      <th>V27</th>\n      <th>V28</th>\n      <th>Amount</th>\n      <th>Class</th>\n    </tr>\n  </thead>\n  <tbody>\n    <tr>\n      <th>0</th>\n      <td>0</td>\n      <td>64</td>\n      <td>1.212511</td>\n      <td>-0.099054</td>\n      <td>-1.192094</td>\n      <td>0.286324</td>\n      <td>2.160516</td>\n      <td>3.616314</td>\n      <td>-0.404207</td>\n      <td>0.842331</td>\n      <td>...</td>\n      <td>-0.167496</td>\n      <td>-0.494695</td>\n      <td>-0.149785</td>\n      <td>1.011227</td>\n      <td>0.883548</td>\n      <td>-0.329434</td>\n      <td>0.020370</td>\n      <td>0.017037</td>\n      <td>34.70</td>\n      <td>0</td>\n    </tr>\n    <tr>\n      <th>1</th>\n      <td>1</td>\n      <td>64</td>\n      <td>-0.658305</td>\n      <td>0.406791</td>\n      <td>2.037461</td>\n      <td>-0.291298</td>\n      <td>0.147910</td>\n      <td>-0.350857</td>\n      <td>0.945373</td>\n      <td>-0.172560</td>\n      <td>...</td>\n      <td>-0.156096</td>\n      <td>-0.238805</td>\n      <td>0.089877</td>\n      <td>0.421195</td>\n      <td>-0.352487</td>\n      <td>0.074783</td>\n      <td>-0.094192</td>\n      <td>-0.092493</td>\n      <td>54.99</td>\n      <td>0</td>\n    </tr>\n    <tr>\n      <th>2</th>\n      <td>2</td>\n      <td>124</td>\n      <td>1.105253</td>\n      <td>0.541842</td>\n      <td>0.839421</td>\n      <td>2.570933</td>\n      <td>-0.279517</td>\n      <td>-0.423062</td>\n      <td>0.088019</td>\n      <td>0.011622</td>\n      <td>...</td>\n      <td>-0.137434</td>\n      <td>-0.460991</td>\n      <td>0.189397</td>\n      <td>0.556329</td>\n      <td>0.185786</td>\n      <td>-0.189030</td>\n      <td>0.000208</td>\n      <td>0.026167</td>\n      <td>6.24</td>\n      <td>0</td>\n    </tr>\n    <tr>\n      <th>3</th>\n      <td>3</td>\n      <td>128</td>\n      <td>1.239495</td>\n      <td>-0.182609</td>\n      <td>0.155058</td>\n      <td>-0.928892</td>\n      <td>-0.746227</td>\n      <td>-1.235608</td>\n      <td>-0.061695</td>\n      <td>-0.125223</td>\n      <td>...</td>\n      <td>0.146077</td>\n      <td>0.481119</td>\n      <td>-0.140019</td>\n      <td>0.538261</td>\n      <td>0.710720</td>\n      <td>-0.621382</td>\n      <td>0.036867</td>\n      <td>0.010963</td>\n      <td>8.80</td>\n      <td>0</td>\n    </tr>\n    <tr>\n      <th>4</th>\n      <td>4</td>\n      <td>132</td>\n      <td>-1.571359</td>\n      <td>1.687508</td>\n      <td>0.734670</td>\n      <td>1.293350</td>\n      <td>-0.217532</td>\n      <td>-0.002677</td>\n      <td>0.147364</td>\n      <td>0.515362</td>\n      <td>...</td>\n      <td>0.048549</td>\n      <td>0.377256</td>\n      <td>-0.030436</td>\n      <td>0.117608</td>\n      <td>-0.060520</td>\n      <td>-0.296550</td>\n      <td>-0.481570</td>\n      <td>-0.167897</td>\n      <td>10.00</td>\n      <td>0</td>\n    </tr>\n  </tbody>\n</table>\n<p>5 rows × 32 columns</p>\n</div>"
     },
     "execution_count": 11,
     "metadata": {},
     "output_type": "execute_result"
    }
   ],
   "source": [
    "df = pd.read_csv(config.DATAPATH / \"chapter_1/creditcard_sampledata.csv\")\n",
    "df.head()"
   ],
   "metadata": {
    "collapsed": false,
    "pycharm": {
     "name": "#%%\n"
    }
   }
  },
  {
   "cell_type": "code",
   "execution_count": null,
   "outputs": [],
   "source": [],
   "metadata": {
    "collapsed": false,
    "pycharm": {
     "name": "#%%\n"
    }
   }
  }
 ],
 "metadata": {
  "kernelspec": {
   "display_name": "Python 3",
   "language": "python",
   "name": "python3"
  },
  "language_info": {
   "codemirror_mode": {
    "name": "ipython",
    "version": 2
   },
   "file_extension": ".py",
   "mimetype": "text/x-python",
   "name": "python",
   "nbconvert_exporter": "python",
   "pygments_lexer": "ipython2",
   "version": "2.7.6"
  }
 },
 "nbformat": 4,
 "nbformat_minor": 0
}